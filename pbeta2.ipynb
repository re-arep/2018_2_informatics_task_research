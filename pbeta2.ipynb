{
 "cells": [
  {
   "cell_type": "code",
   "execution_count": 8,
   "metadata": {
    "scrolled": true
   },
   "outputs": [
    {
     "ename": "ModuleNotFoundError",
     "evalue": "No module named 'selenium'",
     "output_type": "error",
     "traceback": [
      "\u001b[1;31m---------------------------------------------------------------------------\u001b[0m",
      "\u001b[1;31mModuleNotFoundError\u001b[0m                       Traceback (most recent call last)",
      "\u001b[1;32m<ipython-input-8-e3c7461e5350>\u001b[0m in \u001b[0;36m<module>\u001b[1;34m()\u001b[0m\n\u001b[0;32m      2\u001b[0m \u001b[1;32mfrom\u001b[0m \u001b[0murllib\u001b[0m\u001b[1;33m.\u001b[0m\u001b[0mrequest\u001b[0m \u001b[1;32mimport\u001b[0m \u001b[0murlretrieve\u001b[0m\u001b[1;33m\u001b[0m\u001b[0m\n\u001b[0;32m      3\u001b[0m \u001b[1;32mimport\u001b[0m \u001b[0msubprocess\u001b[0m\u001b[1;33m\u001b[0m\u001b[0m\n\u001b[1;32m----> 4\u001b[1;33m \u001b[1;32mfrom\u001b[0m \u001b[0mselenium\u001b[0m \u001b[1;32mimport\u001b[0m \u001b[0mwebdriver\u001b[0m\u001b[1;33m\u001b[0m\u001b[0m\n\u001b[0m\u001b[0;32m      5\u001b[0m \u001b[1;33m\u001b[0m\u001b[0m\n\u001b[0;32m      6\u001b[0m \u001b[1;31m# 셀레니움 드라이버를 만듭니다.\u001b[0m\u001b[1;33m\u001b[0m\u001b[1;33m\u001b[0m\u001b[0m\n",
      "\u001b[1;31mModuleNotFoundError\u001b[0m: No module named 'selenium'"
     ]
    }
   ],
   "source": [
    "import time\n",
    "from urllib.request import urlretrieve\n",
    "import subprocess\n",
    "from selenium import webdriver\n",
    "\n",
    "# 셀레니움 드라이버를 만듭니다.\n",
    "driver = webdriver.chrome()\n",
    "# 가끔 팬텀JS가 이 페이지에 있는 요소를 찾아내지 못할 때가 있습니다.\n",
    "# 그럴 경우 다음 해의 주석을 제거해서 셀레니움 대신 크롬드라이버를 쓰세요.\n",
    "# driver = webdriver.chrome()\n",
    "\n",
    "\n",
    "driver.get(\n",
    "    \"https://blog.naver.com/lofi0602\")\n",
    "time.sleep(2)\n",
    "\n",
    "i = 0\n",
    "for image in sorted(imageList):\n",
    "    urlretrieve(image, \"page\"+str(i)+\".jpg\")\n",
    "    p = subprocess.Popen([\"tesseract\", \"page\"+str(i)+\".jpg\", \"page\"+str(i)],\n",
    "                             stdout=subprocess.PIPE,stderr=subprocess.PIPE)\n",
    "    p.wait()\n",
    "    f = open(\"page\"+str(i)+\".txt\", \"r\", encoding=\"utf-8\")\n",
    "    print(f.read())\n",
    "    i += 1"
   ]
  },
  {
   "cell_type": "code",
   "execution_count": 17,
   "metadata": {},
   "outputs": [
    {
     "name": "stdout",
     "output_type": "stream",
     "text": [
      "9b3f9c400463ef29df41375ebb5760f738ac34fefec5bdcfe20a5f9899456f14\n"
     ]
    }
   ],
   "source": [
    "a = hashlib.sha256( '<!DOCTYPE html><html lang=\"ko\"><head><meta charset=\"utf-8\"/><meta content=\"width=device-width, initial-scale=1.0\" name=\"viewport\"/><meta content=\"ie=edge\" http-equiv=\"X-UA-Compatible\"/><title>가을(Gaeul)</title></head><body><h1>이곳은 팀 가을(Team Gaeul)의 홈페이지 입니다</h1><p>더욱 예쁜 디자인으로 홈페이지를 구성하도록 하겠습니다!</p></body></html>'.encode() ).hexdigest()\n",
    "print(a)"
   ]
  },
  {
   "cell_type": "code",
   "execution_count": 15,
   "metadata": {},
   "outputs": [
    {
     "name": "stdout",
     "output_type": "stream",
     "text": [
      "764faf5c61ac315f1497f9dfa542713965b785e5cc2f707d6468d7d1124cdfcf\n"
     ]
    }
   ],
   "source": [
    "a = hashlib.sha256( \"Rosetta code\".encode() ).hexdigest()\n",
    "print(a)"
   ]
  }
 ],
 "metadata": {
  "kernelspec": {
   "display_name": "Python 3",
   "language": "python",
   "name": "python3"
  },
  "language_info": {
   "codemirror_mode": {
    "name": "ipython",
    "version": 3
   },
   "file_extension": ".py",
   "mimetype": "text/x-python",
   "name": "python",
   "nbconvert_exporter": "python",
   "pygments_lexer": "ipython3",
   "version": "3.6.4"
  }
 },
 "nbformat": 4,
 "nbformat_minor": 2
}
