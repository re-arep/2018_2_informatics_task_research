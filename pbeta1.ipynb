{
 "cells": [
  {
   "cell_type": "code",
   "execution_count": 11,
   "metadata": {
    "scrolled": true
   },
   "outputs": [
    {
     "name": "stdout",
     "output_type": "stream",
     "text": [
      "b'\\r\\n\\r\\n\\r\\n\\r\\n<!DOCTYPE html PUBLIC \"-//W3C//DTD XHTML 1.0 Transitional//EN\" \"http://www.w3.org/TR/xhtml1/DTD/xhtml1-transitional.dtd\">\\r\\n<html lang=\"ko\">\\r\\n<head>\\r\\n<meta http-equiv=\"Pragma\" content=\"no-cache\"/>\\r\\n<meta http-equiv=\"Expires\" content=\"-1\"/>\\r\\n<meta name=\"robots\" content=\"noindex,follow\"/>\\r\\n<meta name=\"referrer\" content=\"always\"/>\\r\\n<meta http-equiv=\"content-type\" content=\"text/html;charset=UTF-8\"/>\\r\\n<link rel=\"shortcut icon\" type=\"image/x-icon\" href=\"/favicon.ico?2\" />\\r\\n<link rel=\"alternate\" type=\"application/rss+xml\" href=\"https://rss.blog.naver.com/lofi0602.xml\" title=\"RSS feed for lofi0602 Blog\"/>\\r\\n<link rel=\"wlwmanifest\" type=\"application/wlwmanifest+xml\" href=\"https://blog.naver.com/NBlogWlwLayout.nhn?blogId=lofi0602\" />\\r\\n\\r\\n\\r\\n\\r\\n\\r\\n<title>\\xea\\xb3\\xbc\\xec\\xa0\\x9c\\xec\\x97\\xb0\\xea\\xb5\\xac : \\xeb\\x84\\xa4\\xec\\x9d\\xb4\\xeb\\xb2\\x84 \\xeb\\xb8\\x94\\xeb\\xa1\\x9c\\xea\\xb7\\xb8</title>\\r\\n</head>\\r\\n<script type=\"text/javascript\" src=\"https://ssl.pstatic.net/t.static.blog/mylog/versioning/Frameset-584891086_https.js\" charset=\"UTF-8\"></script>\\r\\n\\r\\n<script type=\"text/javascript\" charset=\"UTF-8\">\\r\\nvar photoContent=\"\";\\r\\nvar postContent=\"\";\\r\\n\\r\\nvar videoId \\t  = \"\";\\r\\nvar thumbnail \\t  = \"\";\\r\\nvar inKey \\t\\t  = \"\";\\r\\nvar movieFileSize = \"\";\\r\\nvar playTime \\t  = \"\";\\r\\nvar screenSize \\t  = \"\";\\r\\n\\r\\nvar blogId = \\'lofi0602\\';\\r\\nvar blogURL = \\'https://blog.naver.com\\';\\r\\nvar eventCnt = \\'\\';\\r\\n\\r\\nvar g_ShareObject = {};\\r\\ng_ShareObject.referer = \"\";\\r\\n\\r\\n\\r\\n\\r\\n\\r\\n\\r\\njsMVC.setController(\"framesetTitleController\", FramesetTitleController);\\r\\njsMVC.setController(\"framesetUrlController\", FramesetUrlController);\\r\\njsMVC.setController(\"framesetMusicController\", FramesetMusicController);\\r\\nvar oFramesetTitleController = jsMVC.getController(\"framesetTitleController\");\\r\\nvar oFramesetUrlController = jsMVC.getController(\"framesetUrlController\");\\r\\nvar oFramesetMusicController = jsMVC.getController(\"framesetMusicController\");\\r\\nvar sTitle = document.title;\\r\\n\\r\\n</script>\\r\\n<frameset rows=\"*,0\" frameborder=\"0\" framespacing=\"0\">\\r\\n\\t<frame id=\"mainFrame\" name=\"mainFrame\" src=\"/PostView.nhn?blogId=lofi0602&logNo=221387304011&redirect=Dlog&widgetTypeCall=true&directAccess=false\" scrolling=\"auto\"  onload=\"oFramesetTitleController.start(self.frames[\\'mainFrame\\'], self, sTitle);oFramesetTitleController.onLoadFrame();oFramesetUrlController.start(self.frames[\\'mainFrame\\']);oFramesetUrlController.onLoadFrame()\">\\r\\n\\t<frame id=\"hiddenFrame\" name=\"hiddenFrame\" src=\"/NBlogHidden.nhn?blogId=lofi0602&musicYN=false\" scrolling=\"no\" noresize=\"noresize\">\\r\\n</frameset>\\r\\n\\r\\n</html>'\n"
     ]
    }
   ],
   "source": [
    "from urllib.request import urlopen\n",
    "html = urlopen(\"https://blog.naver.com/lofi0602/221387304011\")\n",
    "print(html.read())\n",
    "#출처:파이썬으로 웹 크롤러 만들기"
   ]
  },
  {
   "cell_type": "code",
   "execution_count": 11,
   "metadata": {},
   "outputs": [
    {
     "name": "stdout",
     "output_type": "stream",
     "text": [
      "Parsing HTML...\n",
      "b'<!DOCTYPE html>\\n<html lang=\"ko\">\\n<head>\\n    <meta charset=\"UTF-8\">\\n    <meta name=\"viewport\" content=\"width=device-width, initial-scale=1.0\">\\n    <meta http-equiv=\"X-UA-Compatible\" content=\"ie=edge\">\\n    <title>\\xea\\xb0\\x80\\xec\\x9d\\x84(Gaeul)</title>\\n</head>\\n<body>\\n    <h1>\\xec\\x9d\\xb4\\xea\\xb3\\xb3\\xec\\x9d\\x80 \\xed\\x8c\\x80 \\xea\\xb0\\x80\\xec\\x9d\\x84(Team Gaeul)\\xec\\x9d\\x98 \\xed\\x99\\x88\\xed\\x8e\\x98\\xec\\x9d\\xb4\\xec\\xa7\\x80 \\xec\\x9e\\x85\\xeb\\x8b\\x88\\xeb\\x8b\\xa4</h1>\\n        <p>\\xeb\\x8d\\x94\\xec\\x9a\\xb1 \\xec\\x98\\x88\\xec\\x81\\x9c \\xeb\\x94\\x94\\xec\\x9e\\x90\\xec\\x9d\\xb8\\xec\\x9c\\xbc\\xeb\\xa1\\x9c \\xed\\x99\\x88\\xed\\x8e\\x98\\xec\\x9d\\xb4\\xec\\xa7\\x80\\xeb\\xa5\\xbc \\xea\\xb5\\xac\\xec\\x84\\xb1\\xed\\x95\\x98\\xeb\\x8f\\x84\\xeb\\xa1\\x9d \\xed\\x95\\x98\\xea\\xb2\\xa0\\xec\\x8a\\xb5\\xeb\\x8b\\x88\\xeb\\x8b\\xa4!</p>\\n\\n</body>\\n</html>\\n\\n'\n"
     ]
    }
   ],
   "source": [
    "import urllib.request\n",
    "\n",
    "if __name__ == \"__main__\":\n",
    "        print(\"Parsing HTML...\")\n",
    "        requestUrl = urllib.request.Request(\"http://www.gaeul.tk/\");\n",
    "        parsingHtml = urllib.request.urlopen(requestUrl).read()\n",
    "\n",
    "        print(parsingHtml)\n",
    "\n",
    "        f = open(\"./output.html\", \"wb\")\n",
    "        f.write(parsingHtml)\n",
    "        f.close() #https://sarc.io/"
   ]
  },
  {
   "cell_type": "code",
   "execution_count": 13,
   "metadata": {},
   "outputs": [
    {
     "name": "stdout",
     "output_type": "stream",
     "text": [
      "<!DOCTYPE html>\n",
      "\n",
      "<html lang=\"ko\">\n",
      "<head>\n",
      "<meta charset=\"utf-8\"/>\n",
      "<meta content=\"width=device-width, initial-scale=1.0\" name=\"viewport\"/>\n",
      "<meta content=\"ie=edge\" http-equiv=\"X-UA-Compatible\"/>\n",
      "<title>가을(Gaeul)</title>\n",
      "</head>\n",
      "<body>\n",
      "<h1>이곳은 팀 가을(Team Gaeul)의 홈페이지 입니다</h1>\n",
      "<p>더욱 예쁜 디자인으로 홈페이지를 구성하도록 하겠습니다!</p>\n",
      "</body>\n",
      "</html>\n",
      "\n"
     ]
    }
   ],
   "source": [
    "from urllib.request import urlopen\n",
    "from bs4 import BeautifulSoup\n",
    "html = urlopen(\"http://www.gaeul.tk/\")\n",
    "bs0bj = BeautifulSoup(html, \"html.parser\", from_encoding='utf-8')#한글 깨짐 방지 인코딩\n",
    "print(bs0bj)"
   ]
  },
  {
   "cell_type": "code",
   "execution_count": null,
   "metadata": {},
   "outputs": [],
   "source": []
  }
 ],
 "metadata": {
  "kernelspec": {
   "display_name": "Python 3",
   "language": "python",
   "name": "python3"
  },
  "language_info": {
   "codemirror_mode": {
    "name": "ipython",
    "version": 3
   },
   "file_extension": ".py",
   "mimetype": "text/x-python",
   "name": "python",
   "nbconvert_exporter": "python",
   "pygments_lexer": "ipython3",
   "version": "3.6.4"
  }
 },
 "nbformat": 4,
 "nbformat_minor": 2
}
