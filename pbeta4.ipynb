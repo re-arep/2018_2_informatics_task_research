{
 "cells": [
  {
   "cell_type": "code",
   "execution_count": null,
   "metadata": {},
   "outputs": [],
   "source": [
    "import cv2\n",
    " \n",
    "# 영상의 의미지를 연속적으로 캡쳐할 수 있게 하는 class\n",
    "vidcap = cv2.VideoCapture('research.mp4')\n",
    " \n",
    "count = 0\n",
    " \n",
    "while(vidcap.isOpened()):\n",
    "    # read()는 grab()와 retrieve() 두 함수를 한 함수로 불러옴\n",
    "    # 두 함수를 동시에 불러오는 이유는 프레임이 존재하지 않을 때\n",
    "    # grab() 함수를 이용하여 return false 혹은 NULL 값을 넘겨 주기 때문\n",
    "    ret, image = vidcap.read()\n",
    " \n",
    "    # 캡쳐된 이미지를 저장하는 함수 \n",
    "    cv2.imwrite(\"C:/Users/YOUNG-JIN/Pictures/Saved Pictures/%d.jpeg\" % count, image) #이미지 저장 경로를 지정\n",
    " \n",
    "    print('Saved frame%d.jpeg' % count)\n",
    "    count += 1\n",
    "    if count >= 21:#파일 개수 제한\n",
    "        break\n",
    " \n",
    "vidcap.release()\n",
    "\n",
    "\n",
    "#출처: http://shilan.tistory.com/entry/Python을-이용하여-동영상으로부터-이미지추출-Pythonv27-OpenCV-Windows [끄적끄적]\n"
   ]
  }
 ],
 "metadata": {
  "kernelspec": {
   "display_name": "Python 3",
   "language": "python",
   "name": "python3"
  },
  "language_info": {
   "codemirror_mode": {
    "name": "ipython",
    "version": 3
   },
   "file_extension": ".py",
   "mimetype": "text/x-python",
   "name": "python",
   "nbconvert_exporter": "python",
   "pygments_lexer": "ipython3",
   "version": "3.6.4"
  }
 },
 "nbformat": 4,
 "nbformat_minor": 2
}
